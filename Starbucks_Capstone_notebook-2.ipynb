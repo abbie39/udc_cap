{
 "cells": [
  {
   "cell_type": "markdown",
   "metadata": {},
   "source": [
    "# Starbucks Capstone Challenge\n",
    "\n",
    "### Introduction\n",
    "\n",
    "This data set contains simulated data that mimics customer behavior on the Starbucks rewards mobile app. Once every few days, Starbucks sends out an offer to users of the mobile app. An offer can be merely an advertisement for a drink or an actual offer such as a discount or BOGO (buy one get one free). Some users might not receive any offer during certain weeks. \n",
    "\n",
    "Not all users receive the same offer, and that is the challenge to solve with this data set.\n",
    "\n",
    "Your task is to combine transaction, demographic and offer data to determine which demographic groups respond best to which offer type. This data set is a simplified version of the real Starbucks app because the underlying simulator only has one product whereas Starbucks actually sells dozens of products.\n",
    "\n",
    "Every offer has a validity period before the offer expires. As an example, a BOGO offer might be valid for only 5 days. You'll see in the data set that informational offers have a validity period even though these ads are merely providing information about a product; for example, if an informational offer has 7 days of validity, you can assume the customer is feeling the influence of the offer for 7 days after receiving the advertisement.\n",
    "\n",
    "You'll be given transactional data showing user purchases made on the app including the timestamp of purchase and the amount of money spent on a purchase. This transactional data also has a record for each offer that a user receives as well as a record for when a user actually views the offer. There are also records for when a user completes an offer. \n",
    "\n",
    "Keep in mind as well that someone using the app might make a purchase through the app without having received an offer or seen an offer.\n",
    "\n",
    "### Example\n",
    "\n",
    "To give an example, a user could receive a discount offer buy 10 dollars get 2 off on Monday. The offer is valid for 10 days from receipt. If the customer accumulates at least 10 dollars in purchases during the validity period, the customer completes the offer.\n",
    "\n",
    "However, there are a few things to watch out for in this data set. Customers do not opt into the offers that they receive; in other words, a user can receive an offer, never actually view the offer, and still complete the offer. For example, a user might receive the \"buy 10 dollars get 2 dollars off offer\", but the user never opens the offer during the 10 day validity period. The customer spends 15 dollars during those ten days. There will be an offer completion record in the data set; however, the customer was not influenced by the offer because the customer never viewed the offer.\n",
    "\n",
    "### Cleaning\n",
    "\n",
    "This makes data cleaning especially important and tricky.\n",
    "\n",
    "You'll also want to take into account that some demographic groups will make purchases even if they don't receive an offer. From a business perspective, if a customer is going to make a 10 dollar purchase without an offer anyway, you wouldn't want to send a buy 10 dollars get 2 dollars off offer. You'll want to try to assess what a certain demographic group will buy when not receiving any offers.\n",
    "\n",
    "### Final Advice\n",
    "\n",
    "Because this is a capstone project, you are free to analyze the data any way you see fit. For example, you could build a machine learning model that predicts how much someone will spend based on demographics and offer type. Or you could build a model that predicts whether or not someone will respond to an offer. Or, you don't need to build a machine learning model at all. You could develop a set of heuristics that determine what offer you should send to each customer (i.e., 75 percent of women customers who were 35 years old responded to offer A vs 40 percent from the same demographic to offer B, so send offer A)."
   ]
  },
  {
   "cell_type": "markdown",
   "metadata": {},
   "source": [
    "# Data Sets\n",
    "\n",
    "The data is contained in three files:\n",
    "\n",
    "* portfolio.json - containing offer ids and meta data about each offer (duration, type, etc.)\n",
    "* profile.json - demographic data for each customer\n",
    "* transcript.json - records for transactions, offers received, offers viewed, and offers completed\n",
    "\n",
    "Here is the schema and explanation of each variable in the files:\n",
    "\n",
    "**portfolio.json**\n",
    "* id (string) - offer id\n",
    "* offer_type (string) - type of offer ie BOGO, discount, informational\n",
    "* difficulty (int) - minimum required spend to complete an offer\n",
    "* reward (int) - reward given for completing an offer\n",
    "* duration (int) - time for offer to be open, in days\n",
    "* channels (list of strings)\n",
    "\n",
    "**profile.json**\n",
    "* age (int) - age of the customer \n",
    "* became_member_on (int) - date when customer created an app account\n",
    "* gender (str) - gender of the customer (note some entries contain 'O' for other rather than M or F)\n",
    "* id (str) - customer id\n",
    "* income (float) - customer's income\n",
    "\n",
    "**transcript.json**\n",
    "* event (str) - record description (ie transaction, offer received, offer viewed, etc.)\n",
    "* person (str) - customer id\n",
    "* time (int) - time in hours since start of test. The data begins at time t=0\n",
    "* value - (dict of strings) - either an offer id or transaction amount depending on the record\n",
    "\n",
    "**Note:** If you are using the workspace, you will need to go to the terminal and run the command `conda update pandas` before reading in the files. This is because the version of pandas in the workspace cannot read in the transcript.json file correctly, but the newest version of pandas can. You can access the termnal from the orange icon in the top left of this notebook.  \n",
    "\n",
    "You can see how to access the terminal and how the install works using the two images below.  First you need to access the terminal:\n",
    "\n",
    "<img src=\"pic1.png\"/>\n",
    "\n",
    "Then you will want to run the above command:\n",
    "\n",
    "<img src=\"pic2.png\"/>\n",
    "\n",
    "Finally, when you enter back into the notebook (use the jupyter icon again), you should be able to run the below cell without any errors."
   ]
  },
  {
   "cell_type": "code",
   "execution_count": 1003,
   "metadata": {},
   "outputs": [],
   "source": [
    "import pandas as pd\n",
    "import numpy as np\n",
    "import math\n",
    "import json\n",
    "import matplotlib.pyplot as plt\n",
    "from sklearn.model_selection import train_test_split\n",
    "from sklearn.ensemble import RandomForestClassifier\n",
    "from sklearn.metrics import accuracy_score, f1_score\n",
    "from sklearn.naive_bayes import GaussianNB\n",
    "#% matplotlib inline\n",
    "\n",
    "# read in the json files\n",
    "portfolio = pd.read_json('data/portfolio.json', orient='records', lines=True)\n",
    "profile = pd.read_json('data/profile.json', orient='records', lines=True)\n",
    "transcript = pd.read_json('data/transcript.json', orient='records', lines=True)"
   ]
  },
  {
   "cell_type": "markdown",
   "metadata": {},
   "source": [
    "# 1. Data cleaning"
   ]
  },
  {
   "cell_type": "code",
   "execution_count": 955,
   "metadata": {},
   "outputs": [
    {
     "name": "stdout",
     "output_type": "stream",
     "text": [
      "The shape of the portfolio dataframe is (10, 6). The shape of the profile dataframe is (17000, 5). The shape of the transcript dataframe is (306534, 4)\n"
     ]
    }
   ],
   "source": [
    "# Check shape of dataframes\n",
    "print('The shape of the portfolio dataframe is ' + str(portfolio.shape)\n",
    "     + '. The shape of the profile dataframe is ' + str(profile.shape)\n",
    "     + '. The shape of the transcript dataframe is ' + str(transcript.shape))"
   ]
  },
  {
   "cell_type": "code",
   "execution_count": 956,
   "metadata": {},
   "outputs": [
    {
     "data": {
      "text/html": [
       "<div>\n",
       "<style scoped>\n",
       "    .dataframe tbody tr th:only-of-type {\n",
       "        vertical-align: middle;\n",
       "    }\n",
       "\n",
       "    .dataframe tbody tr th {\n",
       "        vertical-align: top;\n",
       "    }\n",
       "\n",
       "    .dataframe thead th {\n",
       "        text-align: right;\n",
       "    }\n",
       "</style>\n",
       "<table border=\"1\" class=\"dataframe\">\n",
       "  <thead>\n",
       "    <tr style=\"text-align: right;\">\n",
       "      <th></th>\n",
       "      <th>reward</th>\n",
       "      <th>channels</th>\n",
       "      <th>difficulty</th>\n",
       "      <th>duration</th>\n",
       "      <th>offer_type</th>\n",
       "      <th>id</th>\n",
       "    </tr>\n",
       "  </thead>\n",
       "  <tbody>\n",
       "    <tr>\n",
       "      <th>0</th>\n",
       "      <td>10</td>\n",
       "      <td>[email, mobile, social]</td>\n",
       "      <td>10</td>\n",
       "      <td>7</td>\n",
       "      <td>bogo</td>\n",
       "      <td>ae264e3637204a6fb9bb56bc8210ddfd</td>\n",
       "    </tr>\n",
       "    <tr>\n",
       "      <th>1</th>\n",
       "      <td>10</td>\n",
       "      <td>[web, email, mobile, social]</td>\n",
       "      <td>10</td>\n",
       "      <td>5</td>\n",
       "      <td>bogo</td>\n",
       "      <td>4d5c57ea9a6940dd891ad53e9dbe8da0</td>\n",
       "    </tr>\n",
       "    <tr>\n",
       "      <th>2</th>\n",
       "      <td>0</td>\n",
       "      <td>[web, email, mobile]</td>\n",
       "      <td>0</td>\n",
       "      <td>4</td>\n",
       "      <td>informational</td>\n",
       "      <td>3f207df678b143eea3cee63160fa8bed</td>\n",
       "    </tr>\n",
       "    <tr>\n",
       "      <th>3</th>\n",
       "      <td>5</td>\n",
       "      <td>[web, email, mobile]</td>\n",
       "      <td>5</td>\n",
       "      <td>7</td>\n",
       "      <td>bogo</td>\n",
       "      <td>9b98b8c7a33c4b65b9aebfe6a799e6d9</td>\n",
       "    </tr>\n",
       "    <tr>\n",
       "      <th>4</th>\n",
       "      <td>5</td>\n",
       "      <td>[web, email]</td>\n",
       "      <td>20</td>\n",
       "      <td>10</td>\n",
       "      <td>discount</td>\n",
       "      <td>0b1e1539f2cc45b7b9fa7c272da2e1d7</td>\n",
       "    </tr>\n",
       "  </tbody>\n",
       "</table>\n",
       "</div>"
      ],
      "text/plain": [
       "   reward                      channels  difficulty  duration     offer_type  \\\n",
       "0      10       [email, mobile, social]          10         7           bogo   \n",
       "1      10  [web, email, mobile, social]          10         5           bogo   \n",
       "2       0          [web, email, mobile]           0         4  informational   \n",
       "3       5          [web, email, mobile]           5         7           bogo   \n",
       "4       5                  [web, email]          20        10       discount   \n",
       "\n",
       "                                 id  \n",
       "0  ae264e3637204a6fb9bb56bc8210ddfd  \n",
       "1  4d5c57ea9a6940dd891ad53e9dbe8da0  \n",
       "2  3f207df678b143eea3cee63160fa8bed  \n",
       "3  9b98b8c7a33c4b65b9aebfe6a799e6d9  \n",
       "4  0b1e1539f2cc45b7b9fa7c272da2e1d7  "
      ]
     },
     "execution_count": 956,
     "metadata": {},
     "output_type": "execute_result"
    }
   ],
   "source": [
    "# View portfolio dataframe\n",
    "portfolio.head()"
   ]
  },
  {
   "cell_type": "code",
   "execution_count": 957,
   "metadata": {},
   "outputs": [
    {
     "data": {
      "text/html": [
       "<div>\n",
       "<style scoped>\n",
       "    .dataframe tbody tr th:only-of-type {\n",
       "        vertical-align: middle;\n",
       "    }\n",
       "\n",
       "    .dataframe tbody tr th {\n",
       "        vertical-align: top;\n",
       "    }\n",
       "\n",
       "    .dataframe thead th {\n",
       "        text-align: right;\n",
       "    }\n",
       "</style>\n",
       "<table border=\"1\" class=\"dataframe\">\n",
       "  <thead>\n",
       "    <tr style=\"text-align: right;\">\n",
       "      <th></th>\n",
       "      <th>gender</th>\n",
       "      <th>age</th>\n",
       "      <th>id</th>\n",
       "      <th>became_member_on</th>\n",
       "      <th>income</th>\n",
       "    </tr>\n",
       "  </thead>\n",
       "  <tbody>\n",
       "    <tr>\n",
       "      <th>0</th>\n",
       "      <td>None</td>\n",
       "      <td>118</td>\n",
       "      <td>68be06ca386d4c31939f3a4f0e3dd783</td>\n",
       "      <td>20170212</td>\n",
       "      <td>NaN</td>\n",
       "    </tr>\n",
       "    <tr>\n",
       "      <th>1</th>\n",
       "      <td>F</td>\n",
       "      <td>55</td>\n",
       "      <td>0610b486422d4921ae7d2bf64640c50b</td>\n",
       "      <td>20170715</td>\n",
       "      <td>112000.0</td>\n",
       "    </tr>\n",
       "    <tr>\n",
       "      <th>2</th>\n",
       "      <td>None</td>\n",
       "      <td>118</td>\n",
       "      <td>38fe809add3b4fcf9315a9694bb96ff5</td>\n",
       "      <td>20180712</td>\n",
       "      <td>NaN</td>\n",
       "    </tr>\n",
       "    <tr>\n",
       "      <th>3</th>\n",
       "      <td>F</td>\n",
       "      <td>75</td>\n",
       "      <td>78afa995795e4d85b5d9ceeca43f5fef</td>\n",
       "      <td>20170509</td>\n",
       "      <td>100000.0</td>\n",
       "    </tr>\n",
       "    <tr>\n",
       "      <th>4</th>\n",
       "      <td>None</td>\n",
       "      <td>118</td>\n",
       "      <td>a03223e636434f42ac4c3df47e8bac43</td>\n",
       "      <td>20170804</td>\n",
       "      <td>NaN</td>\n",
       "    </tr>\n",
       "  </tbody>\n",
       "</table>\n",
       "</div>"
      ],
      "text/plain": [
       "  gender  age                                id  became_member_on    income\n",
       "0   None  118  68be06ca386d4c31939f3a4f0e3dd783          20170212       NaN\n",
       "1      F   55  0610b486422d4921ae7d2bf64640c50b          20170715  112000.0\n",
       "2   None  118  38fe809add3b4fcf9315a9694bb96ff5          20180712       NaN\n",
       "3      F   75  78afa995795e4d85b5d9ceeca43f5fef          20170509  100000.0\n",
       "4   None  118  a03223e636434f42ac4c3df47e8bac43          20170804       NaN"
      ]
     },
     "execution_count": 957,
     "metadata": {},
     "output_type": "execute_result"
    }
   ],
   "source": [
    "# View profile dataframe\n",
    "profile.head()"
   ]
  },
  {
   "cell_type": "code",
   "execution_count": 958,
   "metadata": {},
   "outputs": [
    {
     "data": {
      "text/html": [
       "<div>\n",
       "<style scoped>\n",
       "    .dataframe tbody tr th:only-of-type {\n",
       "        vertical-align: middle;\n",
       "    }\n",
       "\n",
       "    .dataframe tbody tr th {\n",
       "        vertical-align: top;\n",
       "    }\n",
       "\n",
       "    .dataframe thead th {\n",
       "        text-align: right;\n",
       "    }\n",
       "</style>\n",
       "<table border=\"1\" class=\"dataframe\">\n",
       "  <thead>\n",
       "    <tr style=\"text-align: right;\">\n",
       "      <th></th>\n",
       "      <th>person</th>\n",
       "      <th>event</th>\n",
       "      <th>value</th>\n",
       "      <th>time</th>\n",
       "    </tr>\n",
       "  </thead>\n",
       "  <tbody>\n",
       "    <tr>\n",
       "      <th>0</th>\n",
       "      <td>78afa995795e4d85b5d9ceeca43f5fef</td>\n",
       "      <td>offer received</td>\n",
       "      <td>{'offer id': '9b98b8c7a33c4b65b9aebfe6a799e6d9'}</td>\n",
       "      <td>0</td>\n",
       "    </tr>\n",
       "    <tr>\n",
       "      <th>1</th>\n",
       "      <td>a03223e636434f42ac4c3df47e8bac43</td>\n",
       "      <td>offer received</td>\n",
       "      <td>{'offer id': '0b1e1539f2cc45b7b9fa7c272da2e1d7'}</td>\n",
       "      <td>0</td>\n",
       "    </tr>\n",
       "    <tr>\n",
       "      <th>2</th>\n",
       "      <td>e2127556f4f64592b11af22de27a7932</td>\n",
       "      <td>offer received</td>\n",
       "      <td>{'offer id': '2906b810c7d4411798c6938adc9daaa5'}</td>\n",
       "      <td>0</td>\n",
       "    </tr>\n",
       "    <tr>\n",
       "      <th>3</th>\n",
       "      <td>8ec6ce2a7e7949b1bf142def7d0e0586</td>\n",
       "      <td>offer received</td>\n",
       "      <td>{'offer id': 'fafdcd668e3743c1bb461111dcafc2a4'}</td>\n",
       "      <td>0</td>\n",
       "    </tr>\n",
       "    <tr>\n",
       "      <th>4</th>\n",
       "      <td>68617ca6246f4fbc85e91a2a49552598</td>\n",
       "      <td>offer received</td>\n",
       "      <td>{'offer id': '4d5c57ea9a6940dd891ad53e9dbe8da0'}</td>\n",
       "      <td>0</td>\n",
       "    </tr>\n",
       "  </tbody>\n",
       "</table>\n",
       "</div>"
      ],
      "text/plain": [
       "                             person           event  \\\n",
       "0  78afa995795e4d85b5d9ceeca43f5fef  offer received   \n",
       "1  a03223e636434f42ac4c3df47e8bac43  offer received   \n",
       "2  e2127556f4f64592b11af22de27a7932  offer received   \n",
       "3  8ec6ce2a7e7949b1bf142def7d0e0586  offer received   \n",
       "4  68617ca6246f4fbc85e91a2a49552598  offer received   \n",
       "\n",
       "                                              value  time  \n",
       "0  {'offer id': '9b98b8c7a33c4b65b9aebfe6a799e6d9'}     0  \n",
       "1  {'offer id': '0b1e1539f2cc45b7b9fa7c272da2e1d7'}     0  \n",
       "2  {'offer id': '2906b810c7d4411798c6938adc9daaa5'}     0  \n",
       "3  {'offer id': 'fafdcd668e3743c1bb461111dcafc2a4'}     0  \n",
       "4  {'offer id': '4d5c57ea9a6940dd891ad53e9dbe8da0'}     0  "
      ]
     },
     "execution_count": 958,
     "metadata": {},
     "output_type": "execute_result"
    }
   ],
   "source": [
    "# View transcript dataframe\n",
    "transcript.head()"
   ]
  },
  {
   "cell_type": "code",
   "execution_count": 959,
   "metadata": {},
   "outputs": [],
   "source": [
    "# Split out the dictionary\n",
    "transcript=pd.concat([transcript.drop(['value'], axis=1), transcript['value'].apply(pd.Series)], axis=1)"
   ]
  },
  {
   "cell_type": "code",
   "execution_count": 960,
   "metadata": {},
   "outputs": [
    {
     "name": "stdout",
     "output_type": "stream",
     "text": [
      "person       object\n",
      "event        object\n",
      "time          int64\n",
      "offer id     object\n",
      "amount      float64\n",
      "offer_id     object\n",
      "reward      float64\n",
      "dtype: object\n"
     ]
    },
    {
     "data": {
      "text/html": [
       "<div>\n",
       "<style scoped>\n",
       "    .dataframe tbody tr th:only-of-type {\n",
       "        vertical-align: middle;\n",
       "    }\n",
       "\n",
       "    .dataframe tbody tr th {\n",
       "        vertical-align: top;\n",
       "    }\n",
       "\n",
       "    .dataframe thead th {\n",
       "        text-align: right;\n",
       "    }\n",
       "</style>\n",
       "<table border=\"1\" class=\"dataframe\">\n",
       "  <thead>\n",
       "    <tr style=\"text-align: right;\">\n",
       "      <th></th>\n",
       "      <th>person</th>\n",
       "      <th>event</th>\n",
       "      <th>time</th>\n",
       "      <th>offer id</th>\n",
       "      <th>amount</th>\n",
       "      <th>offer_id</th>\n",
       "      <th>reward</th>\n",
       "    </tr>\n",
       "  </thead>\n",
       "  <tbody>\n",
       "    <tr>\n",
       "      <th>0</th>\n",
       "      <td>78afa995795e4d85b5d9ceeca43f5fef</td>\n",
       "      <td>offer received</td>\n",
       "      <td>0</td>\n",
       "      <td>9b98b8c7a33c4b65b9aebfe6a799e6d9</td>\n",
       "      <td>NaN</td>\n",
       "      <td>NaN</td>\n",
       "      <td>NaN</td>\n",
       "    </tr>\n",
       "    <tr>\n",
       "      <th>1</th>\n",
       "      <td>a03223e636434f42ac4c3df47e8bac43</td>\n",
       "      <td>offer received</td>\n",
       "      <td>0</td>\n",
       "      <td>0b1e1539f2cc45b7b9fa7c272da2e1d7</td>\n",
       "      <td>NaN</td>\n",
       "      <td>NaN</td>\n",
       "      <td>NaN</td>\n",
       "    </tr>\n",
       "    <tr>\n",
       "      <th>2</th>\n",
       "      <td>e2127556f4f64592b11af22de27a7932</td>\n",
       "      <td>offer received</td>\n",
       "      <td>0</td>\n",
       "      <td>2906b810c7d4411798c6938adc9daaa5</td>\n",
       "      <td>NaN</td>\n",
       "      <td>NaN</td>\n",
       "      <td>NaN</td>\n",
       "    </tr>\n",
       "    <tr>\n",
       "      <th>3</th>\n",
       "      <td>8ec6ce2a7e7949b1bf142def7d0e0586</td>\n",
       "      <td>offer received</td>\n",
       "      <td>0</td>\n",
       "      <td>fafdcd668e3743c1bb461111dcafc2a4</td>\n",
       "      <td>NaN</td>\n",
       "      <td>NaN</td>\n",
       "      <td>NaN</td>\n",
       "    </tr>\n",
       "    <tr>\n",
       "      <th>4</th>\n",
       "      <td>68617ca6246f4fbc85e91a2a49552598</td>\n",
       "      <td>offer received</td>\n",
       "      <td>0</td>\n",
       "      <td>4d5c57ea9a6940dd891ad53e9dbe8da0</td>\n",
       "      <td>NaN</td>\n",
       "      <td>NaN</td>\n",
       "      <td>NaN</td>\n",
       "    </tr>\n",
       "  </tbody>\n",
       "</table>\n",
       "</div>"
      ],
      "text/plain": [
       "                             person           event  time  \\\n",
       "0  78afa995795e4d85b5d9ceeca43f5fef  offer received     0   \n",
       "1  a03223e636434f42ac4c3df47e8bac43  offer received     0   \n",
       "2  e2127556f4f64592b11af22de27a7932  offer received     0   \n",
       "3  8ec6ce2a7e7949b1bf142def7d0e0586  offer received     0   \n",
       "4  68617ca6246f4fbc85e91a2a49552598  offer received     0   \n",
       "\n",
       "                           offer id  amount offer_id  reward  \n",
       "0  9b98b8c7a33c4b65b9aebfe6a799e6d9     NaN      NaN     NaN  \n",
       "1  0b1e1539f2cc45b7b9fa7c272da2e1d7     NaN      NaN     NaN  \n",
       "2  2906b810c7d4411798c6938adc9daaa5     NaN      NaN     NaN  \n",
       "3  fafdcd668e3743c1bb461111dcafc2a4     NaN      NaN     NaN  \n",
       "4  4d5c57ea9a6940dd891ad53e9dbe8da0     NaN      NaN     NaN  "
      ]
     },
     "execution_count": 960,
     "metadata": {},
     "output_type": "execute_result"
    }
   ],
   "source": [
    "# View column types\n",
    "print(transcript.dtypes)\n",
    "# View new columns\n",
    "transcript.head()"
   ]
  },
  {
   "cell_type": "code",
   "execution_count": 961,
   "metadata": {},
   "outputs": [],
   "source": [
    "# Explore what each column means\n",
    "#print(transcript['offer id'].unique()) # Gives offer ids, includes nan\n",
    "#print(transcript['offer_id'].unique()) # Gives offer ids, includes nan but does not align with other offer id column\n",
    "#print(transcript['amount'].unique()) # Gives amount spent in a transaction\n",
    "#print(transcript['reward'].unique()) # Gives amount of reward"
   ]
  },
  {
   "cell_type": "code",
   "execution_count": 962,
   "metadata": {},
   "outputs": [
    {
     "name": "stdout",
     "output_type": "stream",
     "text": [
      "56.28% of offer id values are null.\n",
      "89.05% of offer_id values are null.\n"
     ]
    }
   ],
   "source": [
    "# Investigate differences between offer id and offer_id column\n",
    "print(str(round(100*transcript['offer id'].isnull().sum()/transcript.shape[0],2)) + '% of offer id values are null.')\n",
    "print(str(round(100*transcript['offer_id'].isnull().sum()/transcript.shape[0],2)) + '% of offer_id values are null.')"
   ]
  },
  {
   "cell_type": "code",
   "execution_count": 963,
   "metadata": {},
   "outputs": [
    {
     "data": {
      "text/plain": [
       "False    306534\n",
       "dtype: int64"
      ]
     },
     "execution_count": 963,
     "metadata": {},
     "output_type": "execute_result"
    }
   ],
   "source": [
    "# Check if there is ever a time where both offer id and offer_id columns are null\n",
    "transcript[['offer id','offer_id']].notna().all(1).value_counts()\n",
    "# There are no cases where both offer id and offer_id columns are null so we can merge"
   ]
  },
  {
   "cell_type": "code",
   "execution_count": 964,
   "metadata": {},
   "outputs": [],
   "source": [
    "# Merge offer id and offer_id columns \n",
    "transcript['offer_id']=transcript['offer_id'].fillna(transcript['offer id'])\n",
    "# Drop offer id column\n",
    "transcript=transcript.drop(labels='offer id', axis=1)"
   ]
  },
  {
   "cell_type": "code",
   "execution_count": 965,
   "metadata": {},
   "outputs": [],
   "source": [
    "# See how many offer ids we have\n",
    "transcript['offer_id'].nunique()\n",
    "# This lines up with number of offers in portfolio\n",
    "# Create a list of offer ids\n",
    "offer_ids=list(transcript['offer_id'].unique())"
   ]
  },
  {
   "cell_type": "code",
   "execution_count": 966,
   "metadata": {},
   "outputs": [
    {
     "name": "stdout",
     "output_type": "stream",
     "text": [
      "gender              2175\n",
      "age                    0\n",
      "id                     0\n",
      "became_member_on       0\n",
      "income              2175\n",
      "dtype: int64\n",
      "gender              0\n",
      "age                 0\n",
      "id                  0\n",
      "became_member_on    0\n",
      "income              0\n",
      "dtype: int64\n"
     ]
    }
   ],
   "source": [
    "# Check for null values in profile dataframe\n",
    "print(profile.isnull().sum())\n",
    "# There are 2175 null values in the gender column and income column, we will drop these rows\n",
    "profile=profile.dropna(subset=['gender', 'income'])\n",
    "print(profile.isnull().sum())"
   ]
  },
  {
   "cell_type": "code",
   "execution_count": 967,
   "metadata": {},
   "outputs": [
    {
     "name": "stdout",
     "output_type": "stream",
     "text": [
      "reward        0\n",
      "channels      0\n",
      "difficulty    0\n",
      "duration      0\n",
      "offer_type    0\n",
      "id            0\n",
      "dtype: int64\n",
      "person           0\n",
      "event            0\n",
      "time             0\n",
      "amount      167581\n",
      "offer_id    138953\n",
      "reward      272955\n",
      "dtype: int64\n"
     ]
    }
   ],
   "source": [
    "# Check for null values in portfolio dataframe\n",
    "print(portfolio.isnull().sum())\n",
    "# There are no null values\n",
    "# Check for null values in transcript dataframe\n",
    "print(transcript.isnull().sum())\n",
    "# There are no null values"
   ]
  },
  {
   "cell_type": "code",
   "execution_count": 968,
   "metadata": {},
   "outputs": [],
   "source": [
    "# Identify outliers determined by being more than 1.5 IQR below Q1 or more than 1.5 IQR above Q3\n",
    "def outliers(df, column_name):\n",
    "    ''' Function to identify outliers where an outlier is \n",
    "    determined by being more than 1.5 IQR below Q1 or more than 1.5 IQR above Q3. \n",
    "    IQR = interquartile range\n",
    "    Q1 = 1st quantile\n",
    "    Q2 = 3rd quantile\n",
    "    \n",
    "    Input:\n",
    "        df: pandas dataframe\n",
    "        column_name: column name as a string'''\n",
    "    # Identify the quartiles\n",
    "    quantiles=np.quantile(df[column_name], [0.25,0.5,0.75]) \n",
    "    # Interquartile range\n",
    "    q1, q2, q3 = quantiles[0], quantiles[1], quantiles[2]\n",
    "    iqr = q3-q1\n",
    "    # Identify outliers\n",
    "    outliers=[]\n",
    "    for x in df[column_name]:\n",
    "        if x < q1-1.5*iqr:\n",
    "            outliers.append(x)\n",
    "        elif x > q3+1.5*iqr:\n",
    "            outliers.append(x)\n",
    "        else:\n",
    "            break\n",
    "    return outliers\n"
   ]
  },
  {
   "cell_type": "code",
   "execution_count": 969,
   "metadata": {},
   "outputs": [
    {
     "name": "stdout",
     "output_type": "stream",
     "text": [
      "[]\n",
      "[]\n"
     ]
    }
   ],
   "source": [
    "# Check for outliers in income and age\n",
    "print(outliers(profile, 'income'))\n",
    "print(outliers(profile, 'age'))\n",
    "# There are no outliers"
   ]
  },
  {
   "cell_type": "code",
   "execution_count": 970,
   "metadata": {},
   "outputs": [],
   "source": [
    "# Merge portfolio and transcript datasets so we can see which type of offer performs best\n",
    "def join_portfolio(portfolio, transcript):\n",
    "    '''Transforms column names and then merges\n",
    "    the portfolio and transcript datasets.\n",
    "    \n",
    "    Input:\n",
    "    portfolio: pandas dataframe containing information about the offers ran\n",
    "    transcript: pandas dataframe containing information about offer activity\n",
    "    \n",
    "    Output:\n",
    "    df: merged dataframe of portfolio and transcript dataframes'''\n",
    "    portfolio=portfolio.rename(columns={'id':'offer_id'})\n",
    "    transcript=transcript.rename(columns={'reward':'reward_gained'})\n",
    "    df=portfolio.merge(transcript, on='offer_id')    \n",
    "    return df\n",
    "\n",
    "portfolio_transcript = join_portfolio(portfolio, transcript)"
   ]
  },
  {
   "cell_type": "code",
   "execution_count": 971,
   "metadata": {},
   "outputs": [],
   "source": [
    "# Merge all 3 datasets\n",
    "def join_dfs(portfolio_transcript, profile):\n",
    "    '''Transforms column names and then merges\n",
    "    the portfolio_transcript and profile datasets.\n",
    "    \n",
    "    Input:\n",
    "    portfolio_transcript: pandas dataframe containing information about the offers ran and activity, \n",
    "    created from join_portfolio function\n",
    "    profile: pandas dataframe containing information about rewards members\n",
    "    \n",
    "    Output:\n",
    "    df: merged dataframe of portfolio and transcript dataframes'''\n",
    "    profile=profile.rename(columns={'id':'person'})\n",
    "    df=profile.merge(portfolio_transcript, on='person')    \n",
    "    return df\n",
    "\n",
    "df = join_dfs(portfolio_transcript, profile)"
   ]
  },
  {
   "cell_type": "markdown",
   "metadata": {},
   "source": [
    "# 2. Data exploration and visualisation"
   ]
  },
  {
   "cell_type": "code",
   "execution_count": 972,
   "metadata": {},
   "outputs": [
    {
     "name": "stdout",
     "output_type": "stream",
     "text": [
      "The number of members who never receiver offers is 5\n"
     ]
    }
   ],
   "source": [
    "# Check if everyone receives offers\n",
    "receivers = transcript[transcript['event']=='offer received']['person']\n",
    "receivers_profile = profile[profile['id'].isin(receivers)]\n",
    "print('The number of members who never receiver offers is ' \n",
    "      + str(profile.shape[0]-receivers_profile.shape[0]))"
   ]
  },
  {
   "cell_type": "code",
   "execution_count": 973,
   "metadata": {},
   "outputs": [
    {
     "name": "stdout",
     "output_type": "stream",
     "text": [
      "The number of members who receive but never view offers is 145. Which is just 0.98% of all members.\n"
     ]
    }
   ],
   "source": [
    "# Separate out those who receive and view offers vs \n",
    "# those who receive but don't view offers\n",
    "viewers=transcript[transcript['event']=='offer viewed']['person']\n",
    "viewers_profile = receivers_profile[receivers_profile['id'].isin(viewers)]\n",
    "non_viewers_profile = receivers_profile[~receivers_profile['id'].isin(viewers)]\n",
    "non_view_perc=round(100*(receivers_profile.shape[0]-viewers_profile.shape[0])/receivers_profile.shape[0], 2)\n",
    "print('The number of members who receive but never view offers is ' \n",
    "      + str(receivers_profile.shape[0]-viewers_profile.shape[0]) \n",
    "    + '. Which is just ' \n",
    "      + str(non_view_perc) \n",
    "     + '% of all members.')"
   ]
  },
  {
   "cell_type": "code",
   "execution_count": 974,
   "metadata": {},
   "outputs": [
    {
     "name": "stdout",
     "output_type": "stream",
     "text": [
      "age          54.39\n",
      "income    65421.60\n",
      "dtype: float64 age          54.50\n",
      "income    63917.24\n",
      "dtype: float64 age          54.39\n",
      "income    65404.99\n",
      "dtype: float64\n"
     ]
    }
   ],
   "source": [
    "# We will investigate characteristics of viewers vs. non-viewers vs. whole population\n",
    "print(round(viewers_profile[['age', 'income']].mean(), 2), \n",
    "      round(non_viewers_profile[['age', 'income']].mean(), 2),\n",
    "      round(profile[['age', 'income']].mean(), 2),\n",
    ")"
   ]
  },
  {
   "cell_type": "markdown",
   "metadata": {},
   "source": [
    "**There are not great differences in the averages. \n",
    "Investigate the difference between those who complete offers vs those who don't.**"
   ]
  },
  {
   "cell_type": "code",
   "execution_count": 975,
   "metadata": {},
   "outputs": [],
   "source": [
    "# Separate out those who complete offers vs \n",
    "# those who don't complete offers\n",
    "completed=transcript[transcript['event']=='offer completed']['person']\n",
    "completed_profile = receivers_profile[receivers_profile['id'].isin(completed)]\n",
    "non_completed_profile = receivers_profile[~receivers_profile['id'].isin(completed)]"
   ]
  },
  {
   "cell_type": "code",
   "execution_count": 976,
   "metadata": {},
   "outputs": [
    {
     "name": "stdout",
     "output_type": "stream",
     "text": [
      "The number of members who complete offers is 11986. Which is 80.88% of all members who receive offers.\n"
     ]
    }
   ],
   "source": [
    "completion_perc=round(100*(completed_profile.shape[0])/receivers_profile.shape[0], 2)\n",
    "print('The number of members who complete offers is ' \n",
    "      + str(completed_profile.shape[0]) \n",
    "      + '. Which is ' \n",
    "      + str(completion_perc) \n",
    "      + '% of all members who receive offers.')"
   ]
  },
  {
   "cell_type": "code",
   "execution_count": 1014,
   "metadata": {},
   "outputs": [
    {
     "name": "stdout",
     "output_type": "stream",
     "text": [
      "age          55.24\n",
      "income    67835.39\n",
      "dtype: float64 age          50.80\n",
      "income    55135.85\n",
      "dtype: float64 age          62.53\n",
      "income    65404.99\n",
      "dtype: float64\n"
     ]
    }
   ],
   "source": [
    "# Investigate characteristics of those who complete offers\n",
    "print(round(completed_profile[['age', 'income']].mean(), 2),\n",
    "      round(non_completed_profile[['age', 'income']].mean(), 2),\n",
    "      round(profile[['age', 'income']].mean(), 2))"
   ]
  },
  {
   "cell_type": "markdown",
   "metadata": {},
   "source": [
    "**Their mean age is slightly lower and mean income is slightly higher than average. Those who don't complete offers have a lower average income and lower average age than both the general population and also those who do complete offers.**"
   ]
  },
  {
   "cell_type": "code",
   "execution_count": 978,
   "metadata": {},
   "outputs": [],
   "source": [
    "# Look at gender\n",
    "total_comp=completed_profile.groupby('gender')['gender'].count().sum()\n",
    "fem_comp=completed_profile.groupby('gender')['gender'].count()[0]\n",
    "male_comp=completed_profile.groupby('gender')['gender'].count()[1]\n",
    "oth_comp=completed_profile.groupby('gender')['gender'].count()[2]\n",
    "\n",
    "total=receivers_profile.groupby('gender')['gender'].count().sum()\n",
    "fem=receivers_profile.groupby('gender')['gender'].count()[0]\n",
    "male=receivers_profile.groupby('gender')['gender'].count()[1]\n",
    "oth=receivers_profile.groupby('gender')['gender'].count()[2]"
   ]
  },
  {
   "cell_type": "code",
   "execution_count": 979,
   "metadata": {},
   "outputs": [
    {
     "data": {
      "image/png": "[encoded data removed]",
      "text/plain": [
       "<Figure size 432x288 with 1 Axes>"
      ]
     },
     "metadata": {},
     "output_type": "display_data"
    }
   ],
   "source": [
    "y = np.array([fem_comp, male_comp, oth_comp])\n",
    "ylabels = ['Female', 'Male', 'Other']\n",
    "plt.pie(y, labels=ylabels, autopct='%.2f')\n",
    "plt.title('Gender breakdown of members who complete offers.')\n",
    "plt.show()"
   ]
  },
  {
   "cell_type": "code",
   "execution_count": 980,
   "metadata": {},
   "outputs": [
    {
     "data": {
      "image/png": "[encoded data removed]",
      "text/plain": [
       "<Figure size 432x288 with 1 Axes>"
      ]
     },
     "metadata": {},
     "output_type": "display_data"
    }
   ],
   "source": [
    "y2 = np.array([fem, male, oth])\n",
    "y2labels = ['Female', 'Male', 'Other']\n",
    "plt.pie(y2, labels=y2labels, autopct='%.2f')\n",
    "plt.title('Gender breakdown of all members.')\n",
    "plt.show()"
   ]
  },
  {
   "cell_type": "markdown",
   "metadata": {},
   "source": [
    "**Males are less likely to complete offers than females.**"
   ]
  },
  {
   "cell_type": "markdown",
   "metadata": {},
   "source": [
    "Next we investigate of those who completed offers how many had also viewed that offer?"
   ]
  },
  {
   "cell_type": "code",
   "execution_count": 981,
   "metadata": {},
   "outputs": [
    {
     "data": {
      "text/html": [
       "<div>\n",
       "<style scoped>\n",
       "    .dataframe tbody tr th:only-of-type {\n",
       "        vertical-align: middle;\n",
       "    }\n",
       "\n",
       "    .dataframe tbody tr th {\n",
       "        vertical-align: top;\n",
       "    }\n",
       "\n",
       "    .dataframe thead th {\n",
       "        text-align: right;\n",
       "    }\n",
       "</style>\n",
       "<table border=\"1\" class=\"dataframe\">\n",
       "  <thead>\n",
       "    <tr style=\"text-align: right;\">\n",
       "      <th></th>\n",
       "      <th></th>\n",
       "      <th>person</th>\n",
       "      <th>time</th>\n",
       "      <th>amount</th>\n",
       "      <th>reward</th>\n",
       "    </tr>\n",
       "    <tr>\n",
       "      <th>event</th>\n",
       "      <th>offer_id</th>\n",
       "      <th></th>\n",
       "      <th></th>\n",
       "      <th></th>\n",
       "      <th></th>\n",
       "    </tr>\n",
       "  </thead>\n",
       "  <tbody>\n",
       "    <tr>\n",
       "      <th rowspan=\"8\" valign=\"top\">offer completed</th>\n",
       "      <th>0b1e1539f2cc45b7b9fa7c272da2e1d7</th>\n",
       "      <td>3420</td>\n",
       "      <td>3420</td>\n",
       "      <td>0</td>\n",
       "      <td>3420</td>\n",
       "    </tr>\n",
       "    <tr>\n",
       "      <th>2298d6c36e964ae4a3e7e9706d1fb8c2</th>\n",
       "      <td>5156</td>\n",
       "      <td>5156</td>\n",
       "      <td>0</td>\n",
       "      <td>5156</td>\n",
       "    </tr>\n",
       "    <tr>\n",
       "      <th>2906b810c7d4411798c6938adc9daaa5</th>\n",
       "      <td>4017</td>\n",
       "      <td>4017</td>\n",
       "      <td>0</td>\n",
       "      <td>4017</td>\n",
       "    </tr>\n",
       "    <tr>\n",
       "      <th>4d5c57ea9a6940dd891ad53e9dbe8da0</th>\n",
       "      <td>3331</td>\n",
       "      <td>3331</td>\n",
       "      <td>0</td>\n",
       "      <td>3331</td>\n",
       "    </tr>\n",
       "    <tr>\n",
       "      <th>9b98b8c7a33c4b65b9aebfe6a799e6d9</th>\n",
       "      <td>4354</td>\n",
       "      <td>4354</td>\n",
       "      <td>0</td>\n",
       "      <td>4354</td>\n",
       "    </tr>\n",
       "    <tr>\n",
       "      <th>ae264e3637204a6fb9bb56bc8210ddfd</th>\n",
       "      <td>3688</td>\n",
       "      <td>3688</td>\n",
       "      <td>0</td>\n",
       "      <td>3688</td>\n",
       "    </tr>\n",
       "    <tr>\n",
       "      <th>f19421c1d4aa40978ebb69ca19b0e20d</th>\n",
       "      <td>4296</td>\n",
       "      <td>4296</td>\n",
       "      <td>0</td>\n",
       "      <td>4296</td>\n",
       "    </tr>\n",
       "    <tr>\n",
       "      <th>fafdcd668e3743c1bb461111dcafc2a4</th>\n",
       "      <td>5317</td>\n",
       "      <td>5317</td>\n",
       "      <td>0</td>\n",
       "      <td>5317</td>\n",
       "    </tr>\n",
       "    <tr>\n",
       "      <th rowspan=\"10\" valign=\"top\">offer received</th>\n",
       "      <th>0b1e1539f2cc45b7b9fa7c272da2e1d7</th>\n",
       "      <td>7668</td>\n",
       "      <td>7668</td>\n",
       "      <td>0</td>\n",
       "      <td>0</td>\n",
       "    </tr>\n",
       "    <tr>\n",
       "      <th>2298d6c36e964ae4a3e7e9706d1fb8c2</th>\n",
       "      <td>7646</td>\n",
       "      <td>7646</td>\n",
       "      <td>0</td>\n",
       "      <td>0</td>\n",
       "    </tr>\n",
       "    <tr>\n",
       "      <th>2906b810c7d4411798c6938adc9daaa5</th>\n",
       "      <td>7632</td>\n",
       "      <td>7632</td>\n",
       "      <td>0</td>\n",
       "      <td>0</td>\n",
       "    </tr>\n",
       "    <tr>\n",
       "      <th>3f207df678b143eea3cee63160fa8bed</th>\n",
       "      <td>7617</td>\n",
       "      <td>7617</td>\n",
       "      <td>0</td>\n",
       "      <td>0</td>\n",
       "    </tr>\n",
       "    <tr>\n",
       "      <th>4d5c57ea9a6940dd891ad53e9dbe8da0</th>\n",
       "      <td>7593</td>\n",
       "      <td>7593</td>\n",
       "      <td>0</td>\n",
       "      <td>0</td>\n",
       "    </tr>\n",
       "    <tr>\n",
       "      <th>5a8bc65990b245e5a138643cd4eb9837</th>\n",
       "      <td>7618</td>\n",
       "      <td>7618</td>\n",
       "      <td>0</td>\n",
       "      <td>0</td>\n",
       "    </tr>\n",
       "    <tr>\n",
       "      <th>9b98b8c7a33c4b65b9aebfe6a799e6d9</th>\n",
       "      <td>7677</td>\n",
       "      <td>7677</td>\n",
       "      <td>0</td>\n",
       "      <td>0</td>\n",
       "    </tr>\n",
       "    <tr>\n",
       "      <th>ae264e3637204a6fb9bb56bc8210ddfd</th>\n",
       "      <td>7658</td>\n",
       "      <td>7658</td>\n",
       "      <td>0</td>\n",
       "      <td>0</td>\n",
       "    </tr>\n",
       "    <tr>\n",
       "      <th>f19421c1d4aa40978ebb69ca19b0e20d</th>\n",
       "      <td>7571</td>\n",
       "      <td>7571</td>\n",
       "      <td>0</td>\n",
       "      <td>0</td>\n",
       "    </tr>\n",
       "    <tr>\n",
       "      <th>fafdcd668e3743c1bb461111dcafc2a4</th>\n",
       "      <td>7597</td>\n",
       "      <td>7597</td>\n",
       "      <td>0</td>\n",
       "      <td>0</td>\n",
       "    </tr>\n",
       "    <tr>\n",
       "      <th rowspan=\"10\" valign=\"top\">offer viewed</th>\n",
       "      <th>0b1e1539f2cc45b7b9fa7c272da2e1d7</th>\n",
       "      <td>2663</td>\n",
       "      <td>2663</td>\n",
       "      <td>0</td>\n",
       "      <td>0</td>\n",
       "    </tr>\n",
       "    <tr>\n",
       "      <th>2298d6c36e964ae4a3e7e9706d1fb8c2</th>\n",
       "      <td>7337</td>\n",
       "      <td>7337</td>\n",
       "      <td>0</td>\n",
       "      <td>0</td>\n",
       "    </tr>\n",
       "    <tr>\n",
       "      <th>2906b810c7d4411798c6938adc9daaa5</th>\n",
       "      <td>4118</td>\n",
       "      <td>4118</td>\n",
       "      <td>0</td>\n",
       "      <td>0</td>\n",
       "    </tr>\n",
       "    <tr>\n",
       "      <th>3f207df678b143eea3cee63160fa8bed</th>\n",
       "      <td>4144</td>\n",
       "      <td>4144</td>\n",
       "      <td>0</td>\n",
       "      <td>0</td>\n",
       "    </tr>\n",
       "    <tr>\n",
       "      <th>4d5c57ea9a6940dd891ad53e9dbe8da0</th>\n",
       "      <td>7298</td>\n",
       "      <td>7298</td>\n",
       "      <td>0</td>\n",
       "      <td>0</td>\n",
       "    </tr>\n",
       "    <tr>\n",
       "      <th>5a8bc65990b245e5a138643cd4eb9837</th>\n",
       "      <td>6687</td>\n",
       "      <td>6687</td>\n",
       "      <td>0</td>\n",
       "      <td>0</td>\n",
       "    </tr>\n",
       "    <tr>\n",
       "      <th>9b98b8c7a33c4b65b9aebfe6a799e6d9</th>\n",
       "      <td>4171</td>\n",
       "      <td>4171</td>\n",
       "      <td>0</td>\n",
       "      <td>0</td>\n",
       "    </tr>\n",
       "    <tr>\n",
       "      <th>ae264e3637204a6fb9bb56bc8210ddfd</th>\n",
       "      <td>6716</td>\n",
       "      <td>6716</td>\n",
       "      <td>0</td>\n",
       "      <td>0</td>\n",
       "    </tr>\n",
       "    <tr>\n",
       "      <th>f19421c1d4aa40978ebb69ca19b0e20d</th>\n",
       "      <td>7264</td>\n",
       "      <td>7264</td>\n",
       "      <td>0</td>\n",
       "      <td>0</td>\n",
       "    </tr>\n",
       "    <tr>\n",
       "      <th>fafdcd668e3743c1bb461111dcafc2a4</th>\n",
       "      <td>7327</td>\n",
       "      <td>7327</td>\n",
       "      <td>0</td>\n",
       "      <td>0</td>\n",
       "    </tr>\n",
       "  </tbody>\n",
       "</table>\n",
       "</div>"
      ],
      "text/plain": [
       "                                                  person  time  amount  reward\n",
       "event           offer_id                                                      \n",
       "offer completed 0b1e1539f2cc45b7b9fa7c272da2e1d7    3420  3420       0    3420\n",
       "                2298d6c36e964ae4a3e7e9706d1fb8c2    5156  5156       0    5156\n",
       "                2906b810c7d4411798c6938adc9daaa5    4017  4017       0    4017\n",
       "                4d5c57ea9a6940dd891ad53e9dbe8da0    3331  3331       0    3331\n",
       "                9b98b8c7a33c4b65b9aebfe6a799e6d9    4354  4354       0    4354\n",
       "                ae264e3637204a6fb9bb56bc8210ddfd    3688  3688       0    3688\n",
       "                f19421c1d4aa40978ebb69ca19b0e20d    4296  4296       0    4296\n",
       "                fafdcd668e3743c1bb461111dcafc2a4    5317  5317       0    5317\n",
       "offer received  0b1e1539f2cc45b7b9fa7c272da2e1d7    7668  7668       0       0\n",
       "                2298d6c36e964ae4a3e7e9706d1fb8c2    7646  7646       0       0\n",
       "                2906b810c7d4411798c6938adc9daaa5    7632  7632       0       0\n",
       "                3f207df678b143eea3cee63160fa8bed    7617  7617       0       0\n",
       "                4d5c57ea9a6940dd891ad53e9dbe8da0    7593  7593       0       0\n",
       "                5a8bc65990b245e5a138643cd4eb9837    7618  7618       0       0\n",
       "                9b98b8c7a33c4b65b9aebfe6a799e6d9    7677  7677       0       0\n",
       "                ae264e3637204a6fb9bb56bc8210ddfd    7658  7658       0       0\n",
       "                f19421c1d4aa40978ebb69ca19b0e20d    7571  7571       0       0\n",
       "                fafdcd668e3743c1bb461111dcafc2a4    7597  7597       0       0\n",
       "offer viewed    0b1e1539f2cc45b7b9fa7c272da2e1d7    2663  2663       0       0\n",
       "                2298d6c36e964ae4a3e7e9706d1fb8c2    7337  7337       0       0\n",
       "                2906b810c7d4411798c6938adc9daaa5    4118  4118       0       0\n",
       "                3f207df678b143eea3cee63160fa8bed    4144  4144       0       0\n",
       "                4d5c57ea9a6940dd891ad53e9dbe8da0    7298  7298       0       0\n",
       "                5a8bc65990b245e5a138643cd4eb9837    6687  6687       0       0\n",
       "                9b98b8c7a33c4b65b9aebfe6a799e6d9    4171  4171       0       0\n",
       "                ae264e3637204a6fb9bb56bc8210ddfd    6716  6716       0       0\n",
       "                f19421c1d4aa40978ebb69ca19b0e20d    7264  7264       0       0\n",
       "                fafdcd668e3743c1bb461111dcafc2a4    7327  7327       0       0"
      ]
     },
     "execution_count": 981,
     "metadata": {},
     "output_type": "execute_result"
    }
   ],
   "source": [
    "# Find what percentage of offer ids that are completed were also viewed\n",
    "transcript.groupby(['event', 'offer_id'], sort=True).count()"
   ]
  },
  {
   "cell_type": "code",
   "execution_count": 982,
   "metadata": {},
   "outputs": [],
   "source": [
    "offer_completed = transcript[transcript['event']=='offer completed']\n",
    "offer_viewed = transcript[transcript['event']=='offer viewed']"
   ]
  },
  {
   "cell_type": "code",
   "execution_count": 983,
   "metadata": {},
   "outputs": [],
   "source": [
    "data_1 = offer_completed.groupby('offer_id').count()\n",
    "data_2 = offer_viewed.groupby('offer_id').count()\n",
    "y1=data_1['person']\n",
    "x1=data_1.index.values\n",
    "y2=data_2['person']\n",
    "x2=data_2.index.values"
   ]
  },
  {
   "cell_type": "code",
   "execution_count": 984,
   "metadata": {},
   "outputs": [
    {
     "data": {
      "text/plain": [
       "<matplotlib.legend.Legend at 0x7faf9642e2e0>"
      ]
     },
     "execution_count": 984,
     "metadata": {},
     "output_type": "execute_result"
    },
    {
     "data": {
      "image/png": "[encoded data removed]",
      "text/plain": [
       "<Figure size 432x288 with 1 Axes>"
      ]
     },
     "metadata": {
      "needs_background": "light"
     },
     "output_type": "display_data"
    }
   ],
   "source": [
    "ax1 = plt.scatter(x1, y1, c='orange')\n",
    "ax2 = plt.scatter(x2, y2, c='blue')\n",
    "plt.title('Completed vs. viewed offers')\n",
    "plt.xlabel('Offer id')\n",
    "plt.ylabel('Number of occurences')\n",
    "plt.xticks(rotation=90)\n",
    "plt.legend([ax1, ax2], ['Completed offers', 'Viewed offers'])"
   ]
  },
  {
   "cell_type": "code",
   "execution_count": 985,
   "metadata": {},
   "outputs": [
    {
     "data": {
      "text/plain": [
       "['9b98b8c7a33c4b65b9aebfe6a799e6d9',\n",
       " '0b1e1539f2cc45b7b9fa7c272da2e1d7',\n",
       " '2906b810c7d4411798c6938adc9daaa5',\n",
       " 'fafdcd668e3743c1bb461111dcafc2a4',\n",
       " '4d5c57ea9a6940dd891ad53e9dbe8da0',\n",
       " 'f19421c1d4aa40978ebb69ca19b0e20d',\n",
       " '2298d6c36e964ae4a3e7e9706d1fb8c2',\n",
       " '3f207df678b143eea3cee63160fa8bed',\n",
       " 'ae264e3637204a6fb9bb56bc8210ddfd',\n",
       " '5a8bc65990b245e5a138643cd4eb9837',\n",
       " nan]"
      ]
     },
     "execution_count": 985,
     "metadata": {},
     "output_type": "execute_result"
    }
   ],
   "source": [
    "# Printing all offer ids\n",
    "offer_ids"
   ]
  },
  {
   "cell_type": "code",
   "execution_count": 986,
   "metadata": {},
   "outputs": [
    {
     "name": "stdout",
     "output_type": "stream",
     "text": [
      "   reward              channels  difficulty  duration offer_type  \\\n",
      "3       5  [web, email, mobile]           5         7       bogo   \n",
      "\n",
      "                                 id  \n",
      "3  9b98b8c7a33c4b65b9aebfe6a799e6d9  \n"
     ]
    },
    {
     "data": {
      "text/plain": [
       "7.7"
      ]
     },
     "execution_count": 986,
     "metadata": {},
     "output_type": "execute_result"
    }
   ],
   "source": [
    "# Offer 9b98b8c7a33c4b65b9aebfe6a799e6d9 \n",
    "# is completed more than it is  viewed\n",
    "print(portfolio[portfolio['id'].isin(['9b98b8c7a33c4b65b9aebfe6a799e6d9'])])\n",
    "# Its difficulty is just 5\n",
    "portfolio['difficulty'].mean()\n",
    "# The mean difficult is 7.7 so this could be why it was easily achieved by so many members "
   ]
  },
  {
   "cell_type": "code",
   "execution_count": 987,
   "metadata": {},
   "outputs": [
    {
     "data": {
      "text/html": [
       "<div>\n",
       "<style scoped>\n",
       "    .dataframe tbody tr th:only-of-type {\n",
       "        vertical-align: middle;\n",
       "    }\n",
       "\n",
       "    .dataframe tbody tr th {\n",
       "        vertical-align: top;\n",
       "    }\n",
       "\n",
       "    .dataframe thead th {\n",
       "        text-align: right;\n",
       "    }\n",
       "</style>\n",
       "<table border=\"1\" class=\"dataframe\">\n",
       "  <thead>\n",
       "    <tr style=\"text-align: right;\">\n",
       "      <th></th>\n",
       "      <th>reward</th>\n",
       "      <th>channels</th>\n",
       "      <th>difficulty</th>\n",
       "      <th>duration</th>\n",
       "      <th>offer_type</th>\n",
       "      <th>id</th>\n",
       "    </tr>\n",
       "  </thead>\n",
       "  <tbody>\n",
       "    <tr>\n",
       "      <th>1</th>\n",
       "      <td>10</td>\n",
       "      <td>[web, email, mobile, social]</td>\n",
       "      <td>10</td>\n",
       "      <td>5</td>\n",
       "      <td>bogo</td>\n",
       "      <td>4d5c57ea9a6940dd891ad53e9dbe8da0</td>\n",
       "    </tr>\n",
       "  </tbody>\n",
       "</table>\n",
       "</div>"
      ],
      "text/plain": [
       "   reward                      channels  difficulty  duration offer_type  \\\n",
       "1      10  [web, email, mobile, social]          10         5       bogo   \n",
       "\n",
       "                                 id  \n",
       "1  4d5c57ea9a6940dd891ad53e9dbe8da0  "
      ]
     },
     "execution_count": 987,
     "metadata": {},
     "output_type": "execute_result"
    }
   ],
   "source": [
    "# Offer 4d5c57ea9a6940dd891ad53e9dbe8da0 has the greatest difference \n",
    "# between viewings and completions\n",
    "portfolio[portfolio['id'].isin(['4d5c57ea9a6940dd891ad53e9dbe8da0'])]\n",
    "# Its difficulty is 10 and was only valid for 5 days so may suggest why"
   ]
  },
  {
   "cell_type": "code",
   "execution_count": 989,
   "metadata": {},
   "outputs": [],
   "source": [
    "# Group portfolio_transcript by offer_type and then by event\n",
    "counts=portfolio_transcript.groupby(['offer_type', 'event']).count().reset_index().drop([\n",
    "    'channels','difficulty','duration','offer_id','person','time','amount','reward_gained'], axis=1).rename(\n",
    "columns={'reward':'count'})"
   ]
  },
  {
   "cell_type": "code",
   "execution_count": 991,
   "metadata": {},
   "outputs": [],
   "source": [
    "# Find percentages of each offer type that are viewed and completed\n",
    "def perc_finder(df, offer_type, event):\n",
    "    '''Finds percentages of each offer type that are viewed and completed.\n",
    "    \n",
    "    Input:\n",
    "    df: a dataframe of the counts of offer types and event combinations\n",
    "    offer_type (str): the offer type you want to calculate a percentage for\n",
    "                accepted offer types: bogo, discount, informational\n",
    "    event (str): the event you are interested in\n",
    "            accepted event types: offer completed, offer received, offer viewed'''\n",
    "    \n",
    "    total_rec=df[(df['offer_type']==offer_type) & (df['event']=='offer received')]['count']\n",
    "    no_of_event=df[(df['offer_type']==offer_type) & (df['event']==event)]['count']\n",
    "    perc=100*(int(no_of_event.values)/int(total_rec.values))\n",
    "    perc_rounded=round(perc, 2)\n",
    "    return perc_rounded"
   ]
  },
  {
   "cell_type": "code",
   "execution_count": 992,
   "metadata": {},
   "outputs": [],
   "source": [
    "bogo_viewed=perc_finder(counts, 'bogo', 'offer viewed')\n",
    "bogo_completed=perc_finder(counts, 'bogo', 'offer completed')\n",
    "discount_viewed=perc_finder(counts, 'discount', 'offer viewed')\n",
    "discount_completed=perc_finder(counts, 'discount', 'offer completed')\n",
    "informational_viewed=perc_finder(counts, 'informational', 'offer viewed')\n",
    "# Note: informational offers cannot be tracked as 'completed'"
   ]
  },
  {
   "cell_type": "code",
   "execution_count": 993,
   "metadata": {},
   "outputs": [
    {
     "name": "stdout",
     "output_type": "stream",
     "text": [
      "The percentage of bogo offers that were viewed is 83.44%.\n",
      "The percentage of bogo offers that were completed is 51.38%.\n",
      "The percentage of discount offers that were viewed is 70.21%.\n",
      "The percentage of discount offers that were completed is 58.64%.\n",
      "The percentage of informational offers that were viewed is 71.09%.\n"
     ]
    }
   ],
   "source": [
    "print('The percentage of bogo offers that were viewed is ' +str(bogo_viewed) +'%.')\n",
    "print('The percentage of bogo offers that were completed is ' +str(bogo_completed) +'%.')\n",
    "print('The percentage of discount offers that were viewed is ' +str(discount_viewed) +'%.')\n",
    "print('The percentage of discount offers that were completed is ' +str(discount_completed) +'%.')\n",
    "print('The percentage of informational offers that were viewed is ' +str(informational_viewed) +'%.')"
   ]
  },
  {
   "cell_type": "markdown",
   "metadata": {},
   "source": [
    "**Observing the above we can see discount offers have a greater conversion rate from being viewed to being completed.** "
   ]
  },
  {
   "cell_type": "code",
   "execution_count": 994,
   "metadata": {},
   "outputs": [
    {
     "data": {
      "image/png": "[encoded data removed]",
      "text/plain": [
       "<Figure size 432x288 with 1 Axes>"
      ]
     },
     "metadata": {
      "needs_background": "light"
     },
     "output_type": "display_data"
    }
   ],
   "source": [
    "colours=['red','pink', 'blue', 'teal']\n",
    "x=['bogo (viewed)', 'bogo (completed)', 'discount (viewed)', 'discount (completed)']\n",
    "y=[bogo_viewed, bogo_completed, discount_viewed, discount_completed]\n",
    "plt.scatter(x,y, c=colours)\n",
    "plt.title('Offers viewed vs. completed by type')\n",
    "plt.ylabel('Percentage of offers received')\n",
    "plt.xlabel('Type of offer')\n",
    "plt.show()"
   ]
  },
  {
   "cell_type": "markdown",
   "metadata": {},
   "source": [
    "**Whilst more bogo offers were viewed than discount offers, less were completed. This suggests discount offers are more attractive to attain.**"
   ]
  },
  {
   "cell_type": "markdown",
   "metadata": {},
   "source": [
    "# 3. Modelling\n",
    "\n",
    "We will test 3 different models to predict whether a customer will complete an offer. "
   ]
  },
  {
   "cell_type": "code",
   "execution_count": 996,
   "metadata": {},
   "outputs": [],
   "source": [
    "# Create a dummy variable if offer is completed\n",
    "dummies=pd.get_dummies(df, columns=['event', 'offer_id', 'offer_type'])\n",
    "df=pd.concat([df, dummies],axis=1)"
   ]
  },
  {
   "cell_type": "code",
   "execution_count": 997,
   "metadata": {},
   "outputs": [],
   "source": [
    "# Rename columns to remove whitespace\n",
    "df=df.rename(columns={'event_offer completed':'offer_completed', 'event_offer received':'offer_received', 'event_offer viewed':'offer_viewed'})"
   ]
  },
  {
   "cell_type": "code",
   "execution_count": 998,
   "metadata": {},
   "outputs": [],
   "source": [
    "# Remove duplicated columns\n",
    "df=df.loc[:, ~df.columns.duplicated()]"
   ]
  },
  {
   "cell_type": "code",
   "execution_count": 999,
   "metadata": {},
   "outputs": [],
   "source": [
    "# Split data into X and y\n",
    "\n",
    "X=df.drop(['gender', 'age', 'became_member_on', 'income', 'reward',\n",
    "       'channels','offer_type', 'offer_id', 'event',\n",
    "       'time', 'amount', 'reward_gained', 'person'], axis=1)\n",
    "y=df[['offer_completed']].values.ravel()"
   ]
  },
  {
   "cell_type": "code",
   "execution_count": 1000,
   "metadata": {},
   "outputs": [],
   "source": [
    "def display_results(y_test, y_pred):\n",
    "    '''Display labels, accuracy and f1score.\n",
    "    Inputs:\n",
    "    y_test: y test dataset\n",
    "    y_pred: predictions made by the model on the X_test dataset\n",
    "    \n",
    "    Outputs:\n",
    "    labels: unique labels for y_pred\n",
    "    accuracy: accuracy score between y_test and y_pred\n",
    "    f1score: f1 score between y_test and y_pred'''\n",
    "    labels = np.unique(y_pred)\n",
    "    accuracy = accuracy_score(y_test, y_pred)\n",
    "    f1score = f1_score(y_test, y_pred)\n",
    "\n",
    "    print(\"Labels:\", labels)\n",
    "    print(\"Accuracy:\", accuracy)\n",
    "    print(\"F1 score:\", f1score)\n"
   ]
  },
  {
   "cell_type": "code",
   "execution_count": 1001,
   "metadata": {},
   "outputs": [
    {
     "name": "stdout",
     "output_type": "stream",
     "text": [
      "Labels: [0 1]\n",
      "Accuracy: 1.0\n",
      "F1 score: 1.0\n"
     ]
    }
   ],
   "source": [
    "# Random Forest Classifier\n",
    "def random_forest_classifier(X, y):\n",
    "    '''Executes RandomForestClassifier() on X and y.\n",
    "    Input:\n",
    "    X: dataset\n",
    "    y: dataset\n",
    "    Output:\n",
    "    results: The labels, accuracy and f1score of the RandomForestClassifier\n",
    "    '''\n",
    "    \n",
    "    # Split data into train and test sets\n",
    "    X_train, X_test, y_train, y_test = train_test_split(\n",
    "     X, y, test_size=0.33, random_state=42)\n",
    "    # Import classifier\n",
    "    clf=RandomForestClassifier()\n",
    "    # Fit model\n",
    "    clf.fit(X_train, y_train)\n",
    "    # Predict on the X_test set\n",
    "    y_pred=clf.predict(X_test)\n",
    "    # Display accuracy and F1 score\n",
    "    results=display_results(y_test,y_pred)\n",
    "    return results\n",
    "\n",
    "random_forest_classifier(X,y)"
   ]
  },
  {
   "cell_type": "code",
   "execution_count": 1002,
   "metadata": {},
   "outputs": [
    {
     "name": "stdout",
     "output_type": "stream",
     "text": [
      "Labels: [0 1]\n",
      "Accuracy: 1.0\n",
      "F1 score: 1.0\n"
     ]
    }
   ],
   "source": [
    "def naive_bayes(X, y):\n",
    "    '''Performs Naive Bayes classifier on X and y.\n",
    "    Input:\n",
    "    X: dataset\n",
    "    y: dataset\n",
    "    Output:\n",
    "    results: The labels, accuracy and f1score of the Naive Bayes Classifier\n",
    "    '''\n",
    "    # Split into test and train data\n",
    "    X_train, X_test, y_train, y_test = train_test_split(\n",
    "     X, y, test_size=0.33, random_state=42)\n",
    "    # Import Classifier\n",
    "    naive_clf = GaussianNB()\n",
    "    # Fit model\n",
    "    naive_clf.fit(X_train, y_train)\n",
    "    # Predict on X_test set\n",
    "    y_pred=naive_clf.predict(X_test)\n",
    "    # Display accuracy and F1 score\n",
    "    results=display_results(y_test,y_pred)\n",
    "    return results\n",
    "\n",
    "naive_bayes(X,y)"
   ]
  },
  {
   "cell_type": "markdown",
   "metadata": {},
   "source": [
    "**Both have perfect accuracy which suggests both models are overfitting.**"
   ]
  },
  {
   "cell_type": "code",
   "execution_count": null,
   "metadata": {},
   "outputs": [],
   "source": []
  }
 ],
 "metadata": {
  "kernelspec": {
   "display_name": "Python 3",
   "language": "python",
   "name": "python3"
  },
  "language_info": {
   "codemirror_mode": {
    "name": "ipython",
    "version": 3
   },
   "file_extension": ".py",
   "mimetype": "text/x-python",
   "name": "python",
   "nbconvert_exporter": "python",
   "pygments_lexer": "ipython3",
   "version": "3.8.3"
  }
 },
 "nbformat": 4,
 "nbformat_minor": 2
}
